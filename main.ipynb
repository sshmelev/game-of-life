{
 "cells": [
  {
   "cell_type": "code",
   "execution_count": 623,
   "metadata": {},
   "outputs": [],
   "source": [
    "import random"
   ]
  },
  {
   "cell_type": "code",
   "execution_count": 624,
   "metadata": {},
   "outputs": [],
   "source": [
    "class GameOfLife:\n",
    "    \n",
    "    def __init__(self, width, height):  \n",
    "        self.width = width\n",
    "        self.height = height\n",
    "        \n",
    "        self.matrix = [[0 for j in range(width)] for i in range(height)] # создание нулевой матрицы заданного размера\n",
    "        \n",
    "    # красивый вывод матрицы    \n",
    "    def __str__(self): \n",
    "        result = ''\n",
    "        for row in self.matrix:\n",
    "            result += '\\n' + str(row)\n",
    "        return result.strip()\n",
    "    \n",
    "    def get_matrix(self):\n",
    "        return self.matrix  \n",
    "    \n",
    "    # случайное заполнение единицами\n",
    "    def random_fill(self, percent):\n",
    "        \n",
    "        for i in range(self.height):        \n",
    "            for j in range(self.width):\n",
    "                if random.random() <= percent:\n",
    "                    self.matrix[i][j] = 1\n",
    "                    \n",
    "        return self.matrix\n",
    "    \n",
    "    # рассчет количества соседей по координатам   \n",
    "    def neighbor_count(self, i, j):\n",
    "        k = 0\n",
    "        shift = [-1, 0, 1]        \n",
    "        for i_shift in shift:\n",
    "            for j_shift in shift:\n",
    "                i_neighbor = i+i_shift\n",
    "                j_neighbor = j+j_shift\n",
    "                 #  координаты соседей корректны (нет отрицательных, т.к. нельзя \"замыкать круг\") и значение соседа равно единице\n",
    "                if i_neighbor in range(self.height) and j_neighbor in range(self.width) and self.matrix[i_neighbor][j_neighbor] == 1:\n",
    "                    k += 1\n",
    "        # если центральная точка равна 1, то нужно скорректировтаь значение\n",
    "        if self.matrix[i][j] == 1:\n",
    "            k -= 1\n",
    "        return k\n",
    "    \n",
    "    def step(self):        \n",
    "        # дублируем текущую матрицу о временную, чтобы шаг обновления выполся \"в один кард\"\n",
    "        matrix_tmp = self.matrix\n",
    "        \n",
    "        k = 0\n",
    "        \n",
    "        # проходим по всей матрице\n",
    "        for i in range(self.height):        \n",
    "            for j in range(self.width):\n",
    "                # считаем кол-во соседей\n",
    "                k = self.neighbor_count(i, j)\n",
    "                \n",
    "                ## ЛОГИКА ##\n",
    "                # если текущая ячейка содержит единицу\n",
    "                if self.matrix[i][j] == 1:\n",
    "                    # и рядом 2 или 3\n",
    "                    if k == 2 or k == 3:\n",
    "                        pass # то ничего не делаем                    \n",
    "                    else: # иначе обнулить\n",
    "                        #print(i,':',j,'|','value =',self.matrix[i][j],'|', 'k =',k,'|', 'to 0') # для отладки\n",
    "                        matrix_tmp[i][j] = 0\n",
    "                # если текущая ячейка содержит ноль    \n",
    "                if self.matrix[i][j] == 0:\n",
    "                    # и рядом 3\n",
    "                    if k == 3:          \n",
    "                        #print(i,':',j,'|','value =',self.matrix[i][j],'|', 'k =',k,'|', 'to 1') # для отладки\n",
    "                        matrix_tmp[i][j] = 1\n",
    "                    else:\n",
    "                        pass \n",
    "                    \n",
    "        # применяем обновления                \n",
    "        self.matrix = matrix_tmp            \n",
    "        return self.matrix"
   ]
  },
  {
   "cell_type": "code",
   "execution_count": 625,
   "metadata": {},
   "outputs": [],
   "source": [
    "g = GameOfLife(3,3)"
   ]
  },
  {
   "cell_type": "code",
   "execution_count": 626,
   "metadata": {},
   "outputs": [
    {
     "data": {
      "text/plain": [
       "[[0, 0, 0], [0, 0, 0], [0, 0, 0]]"
      ]
     },
     "execution_count": 626,
     "metadata": {},
     "output_type": "execute_result"
    }
   ],
   "source": [
    "g.get_matrix()"
   ]
  },
  {
   "cell_type": "code",
   "execution_count": 627,
   "metadata": {},
   "outputs": [
    {
     "data": {
      "text/plain": [
       "[[1, 0, 1], [1, 0, 0], [0, 1, 1]]"
      ]
     },
     "execution_count": 627,
     "metadata": {},
     "output_type": "execute_result"
    }
   ],
   "source": [
    "g.random_fill(0.3)"
   ]
  },
  {
   "cell_type": "code",
   "execution_count": 628,
   "metadata": {},
   "outputs": [
    {
     "name": "stdout",
     "output_type": "stream",
     "text": [
      "\n",
      " generation 0\n",
      "[0, 0, 0]\n",
      "[0, 0, 0]\n",
      "[0, 0, 0]\n",
      "\n",
      " generation 1\n",
      "[0, 0, 0]\n",
      "[0, 0, 0]\n",
      "[0, 0, 0]\n",
      "\n",
      " generation 2\n",
      "[0, 0, 0]\n",
      "[0, 0, 0]\n",
      "[0, 0, 0]\n",
      "\n",
      " generation 3\n",
      "[0, 0, 0]\n",
      "[0, 0, 0]\n",
      "[0, 0, 0]\n",
      "\n",
      " generation 4\n",
      "[0, 0, 0]\n",
      "[0, 0, 0]\n",
      "[0, 0, 0]\n",
      "\n",
      " generation 5\n",
      "[0, 0, 0]\n",
      "[0, 0, 0]\n",
      "[0, 0, 0]\n",
      "\n",
      " generation 6\n",
      "[0, 0, 0]\n",
      "[0, 0, 0]\n",
      "[0, 0, 0]\n",
      "\n",
      " generation 7\n",
      "[0, 0, 0]\n",
      "[0, 0, 0]\n",
      "[0, 0, 0]\n",
      "\n",
      " generation 8\n",
      "[0, 0, 0]\n",
      "[0, 0, 0]\n",
      "[0, 0, 0]\n",
      "\n",
      " generation 9\n",
      "[0, 0, 0]\n",
      "[0, 0, 0]\n",
      "[0, 0, 0]\n"
     ]
    }
   ],
   "source": [
    "for i in range(10):\n",
    "    g.step()\n",
    "    print('\\n','generation',i)\n",
    "    print(g)"
   ]
  },
  {
   "cell_type": "code",
   "execution_count": null,
   "metadata": {},
   "outputs": [],
   "source": []
  },
  {
   "cell_type": "code",
   "execution_count": null,
   "metadata": {},
   "outputs": [],
   "source": []
  }
 ],
 "metadata": {
  "kernelspec": {
   "display_name": "Python 3",
   "language": "python",
   "name": "python3"
  },
  "language_info": {
   "codemirror_mode": {
    "name": "ipython",
    "version": 3
   },
   "file_extension": ".py",
   "mimetype": "text/x-python",
   "name": "python",
   "nbconvert_exporter": "python",
   "pygments_lexer": "ipython3",
   "version": "3.8.5"
  }
 },
 "nbformat": 4,
 "nbformat_minor": 4
}
